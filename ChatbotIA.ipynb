{
  "nbformat": 4,
  "nbformat_minor": 0,
  "metadata": {
    "colab": {
      "provenance": [],
      "authorship_tag": "ABX9TyMrPWeb1u/ksntuNxX8zfGN",
      "include_colab_link": true
    },
    "kernelspec": {
      "name": "python3",
      "display_name": "Python 3"
    },
    "language_info": {
      "name": "python"
    }
  },
  "cells": [
    {
      "cell_type": "markdown",
      "metadata": {
        "id": "view-in-github",
        "colab_type": "text"
      },
      "source": [
        "<a href=\"https://colab.research.google.com/github/teofilonicolau/second_chatbot_ia_gemni/blob/main/ChatbotIA.ipynb\" target=\"_parent\"><img src=\"https://colab.research.google.com/assets/colab-badge.svg\" alt=\"Open In Colab\"/></a>"
      ]
    },
    {
      "cell_type": "markdown",
      "source": [
        "Instalar o SDK do Python O SDK do Python para a API Gemini está incluído no pacote google-generativeai. Instale a dependência usando pip"
      ],
      "metadata": {
        "id": "qwt23TzmL1j-"
      }
    },
    {
      "cell_type": "code",
      "source": [
        "pip install -q -U google-generativeai"
      ],
      "metadata": {
        "id": "k5_4gpoxMD_A"
      },
      "execution_count": 1,
      "outputs": []
    },
    {
      "cell_type": "markdown",
      "source": [
        "Importe os pacotes necessários.Antes de usar a API Gemini, é necessário ter uma chave de API. Se você ainda não tiver uma, crie uma chave com um clique no Google AI Studio.\n",
        "\n",
        "Gerar uma chave de API\n",
        "\n",
        "No Colab, adicione a chave ao gerenciador de secrets abaixo do \"\", no painel à esquerda. Dê o nome GOOGLE_API_KEY a ela.\n"
      ],
      "metadata": {
        "id": "bxeJrck5MWh4"
      }
    },
    {
      "cell_type": "code",
      "source": [
        "import google.generativeai as genai\n",
        "from google.colab import userdata\n",
        "\n",
        "# Obter a chave de API de userdata\n",
        "api_key = userdata.get('SECRET_KEY')\n",
        "\n",
        "# Configure a biblioteca genai com a chave de API obtida\n",
        "genai.configure(api_key=api_key)\n",
        "\n"
      ],
      "metadata": {
        "id": "ogOsOJVrMr6n"
      },
      "execution_count": 23,
      "outputs": []
    },
    {
      "cell_type": "markdown",
      "source": [
        "Listar modelos\n",
        "Agora você pode chamar a API Gemini. Use list_models para ver os modelos Gemini disponíveis:\n",
        "\n",
        "gemini-pro: otimizado para comandos somente de texto.\n",
        "gemini-pro-vision: otimizado para comandos de texto e imagens"
      ],
      "metadata": {
        "id": "meX8A1EAM0AH"
      }
    },
    {
      "cell_type": "code",
      "source": [
        "for m in genai.list_models():\n",
        "  if 'generateContent' in m.supported_generation_methods:\n",
        "    print(m.name)"
      ],
      "metadata": {
        "colab": {
          "base_uri": "https://localhost:8080/",
          "height": 139
        },
        "id": "zFGMUrr8NC0N",
        "outputId": "da502d06-8c69-42e1-d61d-2594cc74aebb"
      },
      "execution_count": 3,
      "outputs": [
        {
          "output_type": "stream",
          "name": "stdout",
          "text": [
            "models/gemini-1.0-pro\n",
            "models/gemini-1.0-pro-001\n",
            "models/gemini-1.0-pro-latest\n",
            "models/gemini-1.0-pro-vision-latest\n",
            "models/gemini-1.5-pro-latest\n",
            "models/gemini-pro\n",
            "models/gemini-pro-vision\n"
          ]
        }
      ]
    },
    {
      "cell_type": "markdown",
      "source": [],
      "metadata": {
        "id": "m1tlvWqwPsbe"
      }
    },
    {
      "cell_type": "code",
      "source": [
        "generation_config = {\n",
        "  \"candidate_count\" : 1,\n",
        "  \"temperature\"   : 0.5,\n",
        "}"
      ],
      "metadata": {
        "id": "MjJYMsMsRdLb"
      },
      "execution_count": 4,
      "outputs": []
    },
    {
      "cell_type": "code",
      "source": [
        "safety_settings = {\n",
        "   \"Harassment\" : \"BLOCK_NONE\",\n",
        "   \"Hate\"       : \"BLOCK_NONE\",\n",
        "   \"Sexual\" : \"BLOCK_NONE\",\n",
        "   \"Dangerous\" : \"BLOCK_NONE\",\n",
        "}"
      ],
      "metadata": {
        "id": "7YX_8pYzVGWX"
      },
      "execution_count": 13,
      "outputs": []
    },
    {
      "cell_type": "markdown",
      "source": [
        "Inicializando o modelo"
      ],
      "metadata": {
        "id": "ykPdlb2IaC_q"
      }
    },
    {
      "cell_type": "code",
      "source": [
        "model = genai.GenerativeModel(model_name=\"gemini-1.0-pro\",generation_config=generation_config,safety_settings=safety_settings)"
      ],
      "metadata": {
        "id": "qR4hYApGaIf3"
      },
      "execution_count": 14,
      "outputs": []
    },
    {
      "cell_type": "markdown",
      "source": [
        "Gerando uma response"
      ],
      "metadata": {
        "id": "JOlA_DQEfpu4"
      }
    },
    {
      "cell_type": "code",
      "source": [
        "response = model.generate_content(\"fale me sobre Icó ceara?\")\n",
        "print(response.text)"
      ],
      "metadata": {
        "colab": {
          "base_uri": "https://localhost:8080/",
          "height": 694
        },
        "id": "xbmRbRzPfzly",
        "outputId": "778ea6f2-f1ec-4cb7-b2de-c531968a6b71"
      },
      "execution_count": 17,
      "outputs": [
        {
          "output_type": "stream",
          "name": "stdout",
          "text": [
            "**Icó**\n",
            "\n",
            "**Localização:**\n",
            "* Sul do estado do Ceará, no sertão central\n",
            "* Distante 355 km de Fortaleza, a capital do estado\n",
            "* Faz divisa com os municípios de Orós, Juazeiro do Norte, Iguatu e Barbalha\n",
            "\n",
            "**História:**\n",
            "* Fundada em 1768 pelo português Antônio Rodrigues de Sá\n",
            "* Originalmente chamada de \"São José do Icó\"\n",
            "* Tornou-se município em 1873\n",
            "\n",
            "**Geografia:**\n",
            "* Área de 804,1 km²\n",
            "* Altitude média de 150 metros\n",
            "* Clima semiárido, com temperaturas médias entre 25°C e 30°C\n",
            "* Vegetação predominante de caatinga\n",
            "\n",
            "**Economia:**\n",
            "* Baseada principalmente na agricultura (milho, feijão, algodão)\n",
            "* Pecuária (bovinos, caprinos e ovinos)\n",
            "* Turismo\n",
            "\n",
            "**Turismo:**\n",
            "* **Pedra do Cruzeiro:** Monumento natural com 120 metros de altura, que oferece vistas panorâmicas da região\n",
            "* **Açude Castanhão:** Um dos maiores açudes do Nordeste, ideal para pesca e esportes náuticos\n",
            "* **Cânion do Icó:** Formação rochosa com cachoeiras e piscinas naturais\n",
            "* **Sítio Histórico de Icó:** Conjunto arquitetônico do século XVIII que inclui a Igreja Matriz e a Casa de Câmara e Cadeia\n",
            "* **Feira da Lua:** Feira de artesanato e produtos típicos que acontece toda sexta-feira\n",
            "\n",
            "**Cultura:**\n",
            "* Forte influência da cultura nordestina\n",
            "* Tradições folclóricas, como o bumba meu boi e o forró\n",
            "* Artesanato local, como cerâmica, tecelagem e couro\n",
            "\n",
            "**Dados Demográficos:**\n",
            "* População estimada em 2023: 68.744 habitantes\n",
            "* Densidade demográfica: 85,4 hab/km²\n",
            "* IDH: 0,616 (2010)\n"
          ]
        }
      ]
    },
    {
      "cell_type": "markdown",
      "source": [
        "Criando um chatbot"
      ],
      "metadata": {
        "id": "QpUy76zrhXUv"
      }
    },
    {
      "cell_type": "code",
      "source": [
        "chat = model.start_chat(history=[])"
      ],
      "metadata": {
        "id": "rD-LBC91hc2A"
      },
      "execution_count": 18,
      "outputs": []
    },
    {
      "cell_type": "code",
      "source": [
        "prompt = input(\"Esperando o prompt,caso queira encerrar digite Fim :\")\n",
        "\n",
        "while prompt != \"Fim\":\n",
        "  response = chat.send_message(prompt)\n",
        "  print(\"Resposta :\" ,response.text, \"\\n\")\n",
        "  prompt = input(\"Esperando o prompt,caso queira encerrar digite Fim :\")"
      ],
      "metadata": {
        "colab": {
          "base_uri": "https://localhost:8080/",
          "height": 731
        },
        "id": "WuvATYagkJ8G",
        "outputId": "a40c8af3-9610-429c-8523-c39e8b2fdc0b"
      },
      "execution_count": 21,
      "outputs": [
        {
          "name": "stdout",
          "output_type": "stream",
          "text": [
            "Esperando o prompt,caso queira encerrar digite Fim :fale da IA\n",
            "Resposta : **Inteligência Artificial (IA)**\n",
            "\n",
            "A Inteligência Artificial (IA) é um campo da ciência da computação que se concentra no desenvolvimento de máquinas que podem executar tarefas que normalmente requerem inteligência humana, como aprendizado, resolução de problemas e tomada de decisão.\n",
            "\n",
            "**Tipos de IA:**\n",
            "\n",
            "* **IA Fraca (ou Estreita):** Projetada para executar tarefas específicas, como reconhecimento de imagem ou tradução de idiomas.\n",
            "* **IA Geral:** Teoricamente capaz de realizar qualquer tarefa intelectual que um humano possa realizar.\n",
            "* **Super IA:** IA que supera a inteligência humana em todas as áreas.\n",
            "\n",
            "**Aplicações da IA:**\n",
            "\n",
            "* **Automação:** Tarefas repetitivas e demoradas podem ser automatizadas, liberando tempo humano para tarefas mais complexas.\n",
            "* **Atendimento ao Cliente:** Chatbots e assistentes virtuais podem fornecer suporte 24 horas por dia, 7 dias por semana, respondendo a perguntas e resolvendo problemas.\n",
            "* **Saúde:** Diagnóstico precoce de doenças, desenvolvimento de novos medicamentos e assistência cirúrgica.\n",
            "* **Finanças:** Detecção de fraudes, gerenciamento de investimentos e análise de dados financeiros.\n",
            "* **Transporte:** Veículos autônomos, otimização de rotas e gerenciamento de tráfego.\n",
            "\n",
            "**Benefícios da IA:**\n",
            "\n",
            "* Aumento da eficiência e produtividade\n",
            "* Custos reduzidos\n",
            "* Melhoria da tomada de decisão\n",
            "* Acesso a informações e insights valiosos\n",
            "* Novos produtos e serviços inovadores\n",
            "\n",
            "**Desafios da IA:**\n",
            "\n",
            "* **Preocupações éticas:** Implicações no emprego, privacidade e tomada de decisão tendenciosa.\n",
            "* **Requisitos de dados:** A IA requer grandes quantidades de dados para aprender e melhorar.\n",
            "* **Interpretabilidade:** Pode ser difícil entender como os modelos de IA tomam decisões.\n",
            "* **Viés:** Os modelos de IA podem ser tendenciosos se forem treinados com dados tendenciosos.\n",
            "* **Regulamentação:** A IA levanta questões legais e éticas que precisam ser abordadas.\n",
            "\n",
            "**Futuro da IA:**\n",
            "\n",
            "A IA está evoluindo rapidamente e espera-se que tenha um impacto significativo em nossas vidas nos próximos anos. Espera-se que a IA desempenhe um papel cada vez maior em vários setores, incluindo saúde, finanças, transporte e educação. No entanto, é importante abordar as preocupações éticas e os desafios associados à IA para garantir que ela seja usada de forma responsável e benéfica para a sociedade. \n",
            "\n",
            "Esperando o prompt,caso queira encerrar digite Fim :Fim\n"
          ]
        }
      ]
    },
    {
      "cell_type": "code",
      "source": [
        "chat.history"
      ],
      "metadata": {
        "colab": {
          "base_uri": "https://localhost:8080/"
        },
        "id": "NgRoQY5kpobU",
        "outputId": "bd1146b4-30ea-466d-b93d-a65465e51c7a"
      },
      "execution_count": 22,
      "outputs": [
        {
          "output_type": "execute_result",
          "data": {
            "text/plain": [
              "[parts {\n",
              "   text: \"oi\"\n",
              " }\n",
              " role: \"user\",\n",
              " parts {\n",
              "   text: \"Ol\\303\\241! Como posso ajud\\303\\241-lo hoje?\"\n",
              " }\n",
              " role: \"model\",\n",
              " parts {\n",
              "   text: \"fale me do cear\\303\\241\"\n",
              " }\n",
              " role: \"user\",\n",
              " parts {\n",
              "   text: \"**Cear\\303\\241**\\n\\n**Localiza\\303\\247\\303\\243o:** Regi\\303\\243o Nordeste do Brasil\\n\\n**Capital:** Fortaleza\\n\\n**\\303\\201rea:** 148.826,56 km\\302\\262\\n\\n**Popula\\303\\247\\303\\243o:** 9.241.262 habitantes (estimativa de 2023)\\n\\n**Economia:**\\n\\n* Agricultura: produ\\303\\247\\303\\243o de castanha de caju, algod\\303\\243o, milho, feij\\303\\243o e frutas\\n* Pecu\\303\\241ria: cria\\303\\247\\303\\243o de gado bovino, caprino e ovino\\n* Turismo: praias, dunas e cultura\\n* Ind\\303\\272stria: alimentos, bebidas, t\\303\\252xteis e cal\\303\\247ados\\n\\n**Geografia:**\\n\\n* Litoral com 573 km de extens\\303\\243o\\n* Sert\\303\\243o semi\\303\\241rido com vegeta\\303\\247\\303\\243o de caatinga\\n* Serras e chapadas no interior\\n* Rios principais: Jaguaribe, Acara\\303\\272 e Salgado\\n\\n**Cultura:**\\n\\n* M\\303\\272sica: forr\\303\\263, bai\\303\\243o e xaxado\\n* Dan\\303\\247a: quadrilha junina\\n* Artesanato: rendas, bordados e cer\\303\\242mica\\n* Culin\\303\\241ria: carne de sol, bai\\303\\243o de dois e tapioca\\n\\n**Pontos Tur\\303\\255sticos:**\\n\\n* **Praia do Futuro:** uma das praias mais famosas de Fortaleza, com barracas e restaurantes \\303\\240 beira-mar\\n* **Dunas de Jericoacoara:** dunas de areia branca e lagoas de \\303\\241gua doce\\n* **Parque Nacional de Jericoacoara:** parque ecol\\303\\263gico com praias, dunas e lagoas\\n* **Centro Hist\\303\\263rico de Fortaleza:** \\303\\241rea hist\\303\\263rica com pr\\303\\251dios antigos, museus e igrejas\\n* **Teatro Jos\\303\\251 de Alencar:** teatro hist\\303\\263rico e um dos s\\303\\255mbolos culturais de Fortaleza\\n\\n**Curiosidades:**\\n\\n* O Cear\\303\\241 \\303\\251 o maior produtor de castanha de caju do mundo.\\n* A cidade de Juazeiro do Norte \\303\\251 um importante centro religioso, com a est\\303\\241tua do Padre C\\303\\255cero.\\n* O Cear\\303\\241 \\303\\251 conhecido como \\\"Terra do Sol\\\" devido ao seu clima quente e ensolarado.\\n* O estado \\303\\251 o ber\\303\\247o de v\\303\\241rios artistas famosos, como Ivete Sangalo e Wesley Safad\\303\\243o.\"\n",
              " }\n",
              " role: \"model\",\n",
              " parts {\n",
              "   text: \"fim\"\n",
              " }\n",
              " role: \"user\",\n",
              " parts {\n",
              "   text: \"Obrigado por conversar comigo! Estou sempre aprendendo e melhorando, e agrade\\303\\247o por me ajudar a crescer.\\n\\nSe voc\\303\\252 tiver mais alguma d\\303\\272vida ou precisar de assist\\303\\252ncia, n\\303\\243o hesite em perguntar. Estou aqui para ajud\\303\\241-lo.\"\n",
              " }\n",
              " role: \"model\",\n",
              " parts {\n",
              "   text: \"fale da IA\"\n",
              " }\n",
              " role: \"user\",\n",
              " parts {\n",
              "   text: \"**Intelig\\303\\252ncia Artificial (IA)**\\n\\nA Intelig\\303\\252ncia Artificial (IA) \\303\\251 um campo da ci\\303\\252ncia da computa\\303\\247\\303\\243o que se concentra no desenvolvimento de m\\303\\241quinas que podem executar tarefas que normalmente requerem intelig\\303\\252ncia humana, como aprendizado, resolu\\303\\247\\303\\243o de problemas e tomada de decis\\303\\243o.\\n\\n**Tipos de IA:**\\n\\n* **IA Fraca (ou Estreita):** Projetada para executar tarefas espec\\303\\255ficas, como reconhecimento de imagem ou tradu\\303\\247\\303\\243o de idiomas.\\n* **IA Geral:** Teoricamente capaz de realizar qualquer tarefa intelectual que um humano possa realizar.\\n* **Super IA:** IA que supera a intelig\\303\\252ncia humana em todas as \\303\\241reas.\\n\\n**Aplica\\303\\247\\303\\265es da IA:**\\n\\n* **Automa\\303\\247\\303\\243o:** Tarefas repetitivas e demoradas podem ser automatizadas, liberando tempo humano para tarefas mais complexas.\\n* **Atendimento ao Cliente:** Chatbots e assistentes virtuais podem fornecer suporte 24 horas por dia, 7 dias por semana, respondendo a perguntas e resolvendo problemas.\\n* **Sa\\303\\272de:** Diagn\\303\\263stico precoce de doen\\303\\247as, desenvolvimento de novos medicamentos e assist\\303\\252ncia cir\\303\\272rgica.\\n* **Finan\\303\\247as:** Detec\\303\\247\\303\\243o de fraudes, gerenciamento de investimentos e an\\303\\241lise de dados financeiros.\\n* **Transporte:** Ve\\303\\255culos aut\\303\\264nomos, otimiza\\303\\247\\303\\243o de rotas e gerenciamento de tr\\303\\241fego.\\n\\n**Benef\\303\\255cios da IA:**\\n\\n* Aumento da efici\\303\\252ncia e produtividade\\n* Custos reduzidos\\n* Melhoria da tomada de decis\\303\\243o\\n* Acesso a informa\\303\\247\\303\\265es e insights valiosos\\n* Novos produtos e servi\\303\\247os inovadores\\n\\n**Desafios da IA:**\\n\\n* **Preocupa\\303\\247\\303\\265es \\303\\251ticas:** Implica\\303\\247\\303\\265es no emprego, privacidade e tomada de decis\\303\\243o tendenciosa.\\n* **Requisitos de dados:** A IA requer grandes quantidades de dados para aprender e melhorar.\\n* **Interpretabilidade:** Pode ser dif\\303\\255cil entender como os modelos de IA tomam decis\\303\\265es.\\n* **Vi\\303\\251s:** Os modelos de IA podem ser tendenciosos se forem treinados com dados tendenciosos.\\n* **Regulamenta\\303\\247\\303\\243o:** A IA levanta quest\\303\\265es legais e \\303\\251ticas que precisam ser abordadas.\\n\\n**Futuro da IA:**\\n\\nA IA est\\303\\241 evoluindo rapidamente e espera-se que tenha um impacto significativo em nossas vidas nos pr\\303\\263ximos anos. Espera-se que a IA desempenhe um papel cada vez maior em v\\303\\241rios setores, incluindo sa\\303\\272de, finan\\303\\247as, transporte e educa\\303\\247\\303\\243o. No entanto, \\303\\251 importante abordar as preocupa\\303\\247\\303\\265es \\303\\251ticas e os desafios associados \\303\\240 IA para garantir que ela seja usada de forma respons\\303\\241vel e ben\\303\\251fica para a sociedade.\"\n",
              " }\n",
              " role: \"model\"]"
            ]
          },
          "metadata": {},
          "execution_count": 22
        }
      ]
    }
  ]
}